{
 "cells": [
  {
   "cell_type": "markdown",
   "metadata": {},
   "source": [
    "# Lab2"
   ]
  },
  {
   "cell_type": "markdown",
   "metadata": {},
   "source": [
    "## Biblioteka matplotlib"
   ]
  },
  {
   "cell_type": "code",
   "execution_count": null,
   "metadata": {},
   "outputs": [],
   "source": [
    "import matplotlib.pyplot as plt\n",
    "import numpy as np\n",
    "\n",
    "x = np.arange(-np.pi, np.pi, 0.2)\n",
    "y = np.sin(x)\n",
    "plt.plot(x, y, 'g-')\n",
    "plt.show()"
   ]
  },
  {
   "cell_type": "code",
   "execution_count": null,
   "metadata": {},
   "outputs": [],
   "source": [
    "import matplotlib.pyplot as plt\n",
    "import numpy as np\n",
    "\n",
    "a = np.pi\n",
    "x = np.arange(-2 * np.pi, 2 * np.pi, 0.2)\n",
    "y1 = a * np.sin(x - 0.25)\n",
    "y2 = a * np.sin(x - 0.5)\n",
    "plt.plot(x, y1, 'g-')\n",
    "plt.plot(x, y2, 'r-')\n",
    "plt.axis([-2 * np.pi, 2 * np.pi, -5, 5])\n",
    "plt.show()"
   ]
  },
  {
   "cell_type": "code",
   "execution_count": null,
   "metadata": {},
   "outputs": [],
   "source": [
    "import matplotlib.pyplot as plt\n",
    "import numpy as np\n",
    "import random as rand\n",
    "\n",
    "a = rand.randint(0,5)\n",
    "b = rand.randint(0,5)\n",
    "x = np.arange(-5, 5, 0.2)\n",
    "y = a * x + b\n",
    "plt.plot(x, y, 'r-')\n",
    "plt.show()"
   ]
  },
  {
   "cell_type": "code",
   "execution_count": null,
   "metadata": {},
   "outputs": [],
   "source": [
    "import matplotlib.pyplot as plt\n",
    "from mpl_toolkits.mplot3d import Axes3D\n",
    "from matplotlib import cm\n",
    "from matplotlib.ticker import LinearLocator, FormatStrFormatter\n",
    "import numpy as np\n",
    "import math\n",
    "fig = plt.figure()\n",
    "ax = fig.add_subplot(projection='3d')\n",
    "# generuj dane.\n",
    "X = np.arange(-math.pi * 2, math.pi * 2, 0.25)\n",
    "Y = np.arange(-math.pi * 2, math.pi * 2, 0.25)\n",
    "X, Y = np.meshgrid(X, Y)\n",
    "\n",
    "Z = np.sqrt(np.power(X, 2) + np.power(Y, 2))\n",
    "\n",
    "# rysuj powierzchnię\n",
    "surf = ax.plot_surface(X, Y, Z, cmap=cm.inferno, linewidth=0,\n",
    "antialiased=False)\n",
    "ax.zaxis.set_major_locator(LinearLocator(10))\n",
    "ax.zaxis.set_major_formatter(FormatStrFormatter('%.02f'))\n",
    "# Dodanie paska kolorów.\n",
    "fig.colorbar(surf, shrink=0.5, aspect=5)\n",
    "plt.show()"
   ]
  },
  {
   "cell_type": "markdown",
   "metadata": {},
   "source": [
    "## Generowanie i prezentacja danych"
   ]
  },
  {
   "cell_type": "code",
   "execution_count": null,
   "metadata": {},
   "outputs": [],
   "source": [
    "from turtle import color\n",
    "import matplotlib.pyplot as plt\n",
    "import numpy as np\n",
    "import random\n",
    "\n",
    "N = 100\n",
    "p = np.random.random([N, 2]) * 20 - 10\n",
    "\n",
    "print(p)\n",
    "\n",
    "plt.plot(p[:, 0], p[:, 1], '.', color='black')\n",
    "plt.show()\n",
    "\n",
    "a = 2\n",
    "b = 3\n",
    "x = np.arange(-10, 10, 0.2)\n",
    "y = a * x + b\n",
    "plt.plot(x, y, 'r-')\n",
    "for point in p:\n",
    "    if point[1] > a * point[0] + b:\n",
    "        plt.plot(point[0], point[1], '.', color='grey')\n",
    "    else:\n",
    "        plt.plot(point[0], point[1], '.', color='black')\n",
    "plt.show()"
   ]
  },
  {
   "cell_type": "code",
   "execution_count": null,
   "metadata": {},
   "outputs": [],
   "source": [
    "from turtle import color\n",
    "import matplotlib.pyplot as plt\n",
    "import numpy as np\n",
    "import random\n",
    "from matplotlib.pyplot import figure\n",
    "\n",
    "figure(figsize=(20, 20), dpi=200)\n",
    "\n",
    "N = 100\n",
    "p = np.random.random([N, 2]) * 10 - 5\n",
    "\n",
    "# print(p)\n",
    "\n",
    "d = np.zeros(100)\n",
    "x = np.arange(-5, 5, 0.2)\n",
    "y = 2 * np.sin(x) - x / 2\n",
    "\n",
    "for i in range(100):\n",
    "    if p[i][1] > 2 * np.sin(p[i][0]) - p[i][0] / 2:\n",
    "        d[i] = 1\n",
    "\n",
    "# print(d)\n",
    "\n",
    "plt.plot(x,y,'r-')\n",
    "for i in range(100):\n",
    "    if d[i] == 1:\n",
    "        plt.plot(p[i][0], p[i][1], '.', color='grey')\n",
    "    else:\n",
    "        plt.plot(p[i][0], p[i][1], '.', color='black')\n",
    "plt.show()"
   ]
  },
  {
   "cell_type": "markdown",
   "metadata": {},
   "source": [
    "## Wykresy 3d"
   ]
  },
  {
   "cell_type": "code",
   "execution_count": null,
   "metadata": {},
   "outputs": [],
   "source": [
    "import matplotlib.pyplot as plt\n",
    "from mpl_toolkits.mplot3d import Axes3D\n",
    "from matplotlib import cm\n",
    "from matplotlib.ticker import LinearLocator, FormatStrFormatter\n",
    "import numpy as np\n",
    "import math\n",
    "\n",
    "fig = plt.figure()\n",
    "ax = fig.add_subplot(projection='3d')\n",
    "# generuj dane.\n",
    "X = np.arange(-4, 4, 0.02)\n",
    "Y = np.arange(-4, 4, 0.02)\n",
    "X, Y = np.meshgrid(X, Y)\n",
    "\n",
    "Z = (np.sin(np.power(X, 2) + np.power(Y, 2))) / (np.abs(X * Y) + 1)\n",
    "\n",
    "# rysuj powierzchnię\n",
    "surf = ax.plot_surface(X, Y, Z, cmap=cm.inferno, linewidth=0,\n",
    "antialiased=False)\n",
    "ax.zaxis.set_major_locator(LinearLocator(10))\n",
    "ax.zaxis.set_major_formatter(FormatStrFormatter('%.02f'))\n",
    "# Dodanie paska kolorów.\n",
    "fig.colorbar(surf, shrink=0.5, aspect=5)\n",
    "plt.show()"
   ]
  },
  {
   "cell_type": "code",
   "execution_count": null,
   "metadata": {},
   "outputs": [],
   "source": [
    "import matplotlib.pyplot as plt\n",
    "from mpl_toolkits.mplot3d import Axes3D\n",
    "from matplotlib import cm\n",
    "from matplotlib.ticker import LinearLocator, FormatStrFormatter\n",
    "import numpy as np\n",
    "import math\n",
    "\n",
    "fig = plt.figure()\n",
    "ax = fig.add_subplot(projection='3d')\n",
    "# generuj dane.\n",
    "X = np.arange(-4, 4, 0.02)\n",
    "Y = np.arange(-4, 4, 0.02)\n",
    "X, Y = np.meshgrid(X, Y)\n",
    "\n",
    "Z = np.sqrt(np.power(X, 2) + np.power(Y, 2)) + 3 * np.cos(np.sqrt(np.power(X, 2) + np.power(Y, 2))) + 5\n",
    "\n",
    "# rysuj powierzchnię\n",
    "surf = ax.plot_surface(X, Y, Z, cmap=cm.inferno, linewidth=0,\n",
    "antialiased=False)\n",
    "ax.zaxis.set_major_locator(LinearLocator(10))\n",
    "ax.zaxis.set_major_formatter(FormatStrFormatter('%.02f'))\n",
    "# Dodanie paska kolorów.\n",
    "fig.colorbar(surf, shrink=0.5, aspect=5)\n",
    "plt.show()"
   ]
  },
  {
   "cell_type": "markdown",
   "metadata": {},
   "source": [
    "# Histogram"
   ]
  },
  {
   "cell_type": "code",
   "execution_count": null,
   "metadata": {},
   "outputs": [],
   "source": [
    "import numpy as np\n",
    "import random\n",
    "\n",
    "x = np.random.normal(170, 10, 250)\n",
    "plt.hist(x, 15, color='#ffaaff')\n",
    "plt.show() "
   ]
  }
 ],
 "metadata": {
  "kernelspec": {
   "display_name": "Python 3.10.4 64-bit",
   "language": "python",
   "name": "python3"
  },
  "language_info": {
   "codemirror_mode": {
    "name": "ipython",
    "version": 3
   },
   "file_extension": ".py",
   "mimetype": "text/x-python",
   "name": "python",
   "nbconvert_exporter": "python",
   "pygments_lexer": "ipython3",
   "version": "3.10.4"
  },
  "orig_nbformat": 4,
  "vscode": {
   "interpreter": {
    "hash": "d716433767831e8ee82b5de450bcf2d3a53628bd80e1225a1c6cd7992b494ee3"
   }
  }
 },
 "nbformat": 4,
 "nbformat_minor": 2
}
