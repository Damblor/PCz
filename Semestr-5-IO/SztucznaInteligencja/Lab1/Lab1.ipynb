{
  "cells": [
    {
      "cell_type": "markdown",
      "metadata": {},
      "source": [
        "## Zad1 py"
      ]
    },
    {
      "cell_type": "code",
      "execution_count": null,
      "metadata": {
        "colab": {
          "base_uri": "https://localhost:8080/"
        },
        "id": "Px5DuI9xs4zL",
        "outputId": "91bb4a8e-68eb-4d39-fe62-6ef98efe6413"
      },
      "outputs": [],
      "source": [
        "import math\n",
        "\n",
        "def Kwardat(a, b, c):\n",
        "  delta = math.pow(b,2) - (4 * a * c)\n",
        "  print(delta)\n",
        "  if delta > 0:\n",
        "    x1 = (-b * math.sqrt(delta))/(2 * a)\n",
        "    x2 = (b * math.sqrt(delta))/(2 * a)\n",
        "    return (x1,x2)\n",
        "  elif delta == 0:\n",
        "    x = -b / (2 * a)\n",
        "    return (x,)\n",
        "  else:\n",
        "    return ()\n",
        "\n",
        "Kwardat(1,2,1)"
      ]
    },
    {
      "cell_type": "markdown",
      "metadata": {},
      "source": [
        "## Zad2 py"
      ]
    },
    {
      "cell_type": "code",
      "execution_count": null,
      "metadata": {
        "colab": {
          "base_uri": "https://localhost:8080/"
        },
        "id": "1npU2954vSoT",
        "outputId": "248c14d2-1f39-4103-db27-8900a223edb7"
      },
      "outputs": [],
      "source": [
        "import random\n",
        "\n",
        "r = random.randint(1,10)\n",
        "i = 0\n",
        "while 1:\n",
        "  print(\"Wpisz liczbe: \")\n",
        "  l = int(input())\n",
        "  i += 1\n",
        "  if l == r:\n",
        "    print(\"Zgadles prawidlowa liczba to: \" + str(r) +\". Liczba prob: \" + str(i))\n",
        "    break\n",
        "  print(\"Nie zgadles, \" + str(l) + \" nie jest poprawna\")"
      ]
    },
    {
      "cell_type": "markdown",
      "metadata": {},
      "source": [
        "## Zad3 py"
      ]
    },
    {
      "cell_type": "code",
      "execution_count": null,
      "metadata": {
        "colab": {
          "base_uri": "https://localhost:8080/"
        },
        "id": "BPgOtV-rxR2B",
        "outputId": "2f4ea279-57af-418a-9c81-d28269b2ea18"
      },
      "outputs": [],
      "source": [
        "dna = \"TTAGTAGGGTTGTCCATA\"\n",
        "print(\"Ciag DNA: \" + dna)"
      ]
    },
    {
      "cell_type": "code",
      "execution_count": null,
      "metadata": {},
      "outputs": [],
      "source": [
        "def Z3a(ciag):\n",
        "  print(\"a)\")\n",
        "  print(\"Dlugosc: \" + str(len(ciag)))\n",
        "\n",
        "Z3a(dna)"
      ]
    },
    {
      "cell_type": "code",
      "execution_count": null,
      "metadata": {},
      "outputs": [],
      "source": [
        "def Z3b(ciag):\n",
        "  print(\"b)\")\n",
        "  v = True\n",
        "  for c in ciag:\n",
        "    if c != \"A\" and c != \"T\" and c != \"G\" and c != \"C\":\n",
        "      v = False\n",
        "      break\n",
        "  if v:\n",
        "    print(\"Ciag jest poprawny\")\n",
        "  else:\n",
        "    print(\"Ciag jest bledny\")\n",
        "\n",
        "Z3b(dna)"
      ]
    },
    {
      "cell_type": "code",
      "execution_count": null,
      "metadata": {},
      "outputs": [],
      "source": [
        "def Z3c(ciag):\n",
        "  complementary = \"\"\n",
        "  for c in ciag:\n",
        "    if c == \"A\":\n",
        "      complementary += \"T\"\n",
        "    elif c == \"T\":\n",
        "      complementary += \"A\"\n",
        "    elif c == \"C\":\n",
        "      complementary += \"G\"\n",
        "    elif c == \"G\":\n",
        "      complementary += \"C\"\n",
        "  print(\"c)\")\n",
        "  print(\"Ciag komplementarny: \" + complementary)\n",
        "\n",
        "Z3c(dna)"
      ]
    },
    {
      "cell_type": "code",
      "execution_count": null,
      "metadata": {},
      "outputs": [],
      "source": [
        "def Z3d(ciag):\n",
        "  reverse = \"\"\n",
        "  for c in reversed(ciag):\n",
        "    reverse += c\n",
        "  print(\"d)\")\n",
        "  print(\"Ciag odwrotny: \" + reverse)\n",
        "\n",
        "Z3d(dna)"
      ]
    },
    {
      "cell_type": "code",
      "execution_count": null,
      "metadata": {},
      "outputs": [],
      "source": [
        "def Z3e(ciag):\n",
        "  al = 0\n",
        "  tl = 0\n",
        "  cl = 0\n",
        "  gl = 0\n",
        "  for c in ciag:\n",
        "    if c == \"A\":\n",
        "      al += 1\n",
        "    elif c == \"T\":\n",
        "      tl += 1\n",
        "    elif c == \"C\":\n",
        "      cl += 1\n",
        "    elif c == \"G\":\n",
        "      gl += 1\n",
        "  print(\"e)\")\n",
        "  print(\"Liczby: a=\"+str(al)+\" t=\"+str(tl)+\" c=\"+str(cl)+\" g=\"+str(gl))\n",
        "\n",
        "Z3e(dna)"
      ]
    },
    {
      "cell_type": "code",
      "execution_count": null,
      "metadata": {},
      "outputs": [],
      "source": [
        "def Z3f(ciag):\n",
        "  i = 1\n",
        "  gg = 0\n",
        "  while i < len(ciag) - 1:\n",
        "    if ciag[i] == \"G\" and ciag[i - 1] == \"G\":\n",
        "      gg+=1\n",
        "      i+=1\n",
        "    i+=1\n",
        "  print(\"f)\")\n",
        "  print(\"Liczba wystapien GG: \" + str(gg))\n",
        "\n",
        "Z3f(dna)"
      ]
    },
    {
      "cell_type": "code",
      "execution_count": null,
      "metadata": {},
      "outputs": [],
      "source": [
        "def Z3g(ciag):\n",
        "  i = 2\n",
        "  ata = 0\n",
        "  while i < len(ciag):\n",
        "    if ciag[i] == \"A\" and ciag[i - 1] == \"T\" and ciag[i - 2] == \"A\":\n",
        "      ata+=1\n",
        "      i+=2\n",
        "    i+=1\n",
        "  print(\"g)\")\n",
        "  print(\"Liczba wystapien ATA: \" + str(ata))\n",
        "\n",
        "Z3g(dna)"
      ]
    },
    {
      "cell_type": "markdown",
      "metadata": {},
      "source": [
        "## Zad1 numpy"
      ]
    },
    {
      "cell_type": "code",
      "execution_count": null,
      "metadata": {
        "colab": {
          "base_uri": "https://localhost:8080/"
        },
        "id": "2r98_Y293yUB",
        "outputId": "960f2234-25a6-4b38-fe45-46dd46d1667d"
      },
      "outputs": [],
      "source": [
        "import numpy as np\n",
        "\n",
        "matrix = np.random.randint(100, size=(10,10))\n",
        "print(matrix)\n",
        "\n",
        "def MinMax():\n",
        "  print(\"Max: \"+str(np.max(matrix))+\" Min: \"+str(np.min(matrix)))\n",
        "\n",
        "MinMax()"
      ]
    },
    {
      "cell_type": "markdown",
      "metadata": {},
      "source": [
        "## Zad2 numpy"
      ]
    },
    {
      "cell_type": "code",
      "execution_count": null,
      "metadata": {},
      "outputs": [],
      "source": [
        "def RowMinMax():\n",
        "  print(\"W rzędach\")\n",
        "  for x in range(matrix.shape[0]):\n",
        "    print(\"Row:\"+str(x)+\" Max: \"+str(np.max(matrix[x,:]))+\" Min: \"+str(np.min(matrix[x,:])))\n",
        "\n",
        "def ColumnMinMax():\n",
        "  print(\"W kolumnach\")\n",
        "  for y in range(matrix.shape[1]):\n",
        "    print(\"Row:\"+str(y)+\" Max: \"+str(np.max(matrix[:,y]))+\" Min: \"+str(np.min(matrix[:,y])))\n",
        "\n",
        "RowMinMax()\n",
        "ColumnMinMax()"
      ]
    },
    {
      "cell_type": "markdown",
      "metadata": {},
      "source": [
        "## Zad3 numpy"
      ]
    },
    {
      "cell_type": "code",
      "execution_count": null,
      "metadata": {},
      "outputs": [],
      "source": [
        "matrix = np.zeros([5,5])\n",
        "print(matrix)\n",
        "\n",
        "matrix[:,0] = 1\n",
        "matrix[:,4] = 1\n",
        "matrix[0,:] = 1\n",
        "matrix[4,:] = 1\n",
        "\n",
        "print(matrix)\n",
        "\n",
        "def Replace():\n",
        "  global matrix\n",
        "  zeroToOne = lambda i: 1 - i\n",
        "  vectorized = np.vectorize(zeroToOne)\n",
        "  matrix = vectorized(matrix)\n",
        "  print(matrix)\n",
        "\n",
        "Replace()\n",
        "Replace()"
      ]
    },
    {
      "cell_type": "markdown",
      "metadata": {},
      "source": [
        "## Zad4 numpy"
      ]
    },
    {
      "cell_type": "code",
      "execution_count": null,
      "metadata": {},
      "outputs": [],
      "source": [
        "import math\n",
        "import numpy as np\n",
        "\n",
        "matrix1= np.random.randint(10, size=(5,5))\n",
        "matrix2= np.random.randint(10, size=(5,5))\n",
        "\n",
        "print(matrix1)\n",
        "print(matrix2)"
      ]
    },
    {
      "cell_type": "code",
      "execution_count": null,
      "metadata": {},
      "outputs": [],
      "source": [
        "def Z4a(m1, m2):\n",
        "  matrix = np.add(m1, m2)\n",
        "  print(\"Dodawanie\")\n",
        "  print(matrix)\n",
        "\n",
        "Z4a(matrix1, matrix2)"
      ]
    },
    {
      "cell_type": "code",
      "execution_count": null,
      "metadata": {},
      "outputs": [],
      "source": [
        "def Z4b(m1, m2):\n",
        "  matrix = np.subtract(m1, m2)\n",
        "  print(\"Odejmowanie\")\n",
        "  print(matrix)\n",
        "\n",
        "Z4b(matrix1, matrix2)"
      ]
    },
    {
      "cell_type": "code",
      "execution_count": null,
      "metadata": {},
      "outputs": [],
      "source": [
        "def Z4c(m1, m2):\n",
        "  matrix = np.dot(m1, m2)\n",
        "  print(\"Mnożenie\")\n",
        "  print(matrix)\n",
        "\n",
        "Z4c(matrix1, matrix2)"
      ]
    },
    {
      "cell_type": "code",
      "execution_count": null,
      "metadata": {},
      "outputs": [],
      "source": [
        "def Z4d(m):\n",
        "  matrix = np.dot(m,2)\n",
        "  print(\"Po wymnożeniu przez 2\")\n",
        "  print(matrix)\n",
        "  matrix = np.dot(matrix,1/10)\n",
        "  print(\"Po podzieleniu przez 10\")\n",
        "  print(matrix)\n",
        "\n",
        "Z4d(matrix1)\n",
        "Z4d(matrix2)"
      ]
    },
    {
      "cell_type": "code",
      "execution_count": null,
      "metadata": {},
      "outputs": [],
      "source": [
        "def Z4e(m):\n",
        "  print(\"Element ze srodka macierzy:\")\n",
        "  print(m[math.floor(m.shape[0] / 2)][math.floor(m.shape[1] / 2)])\n",
        "\n",
        "print(\"Macierz 1\")\n",
        "Z4e(matrix1)\n",
        "print(\"Macierz 2\")\n",
        "Z4e(matrix2)\n"
      ]
    },
    {
      "cell_type": "code",
      "execution_count": null,
      "metadata": {},
      "outputs": [],
      "source": [
        "def Z4f(m):\n",
        "  print(\"Macierz zamieniona na wektor: \")\n",
        "  vector = m.flatten()\n",
        "  print(vector)\n",
        "\n",
        "Z4f(matrix1)\n",
        "Z4f(matrix2)"
      ]
    }
  ],
  "metadata": {
    "colab": {
      "collapsed_sections": [],
      "provenance": []
    },
    "kernelspec": {
      "display_name": "Python 3.10.4 64-bit",
      "language": "python",
      "name": "python3"
    },
    "language_info": {
      "codemirror_mode": {
        "name": "ipython",
        "version": 3
      },
      "file_extension": ".py",
      "mimetype": "text/x-python",
      "name": "python",
      "nbconvert_exporter": "python",
      "pygments_lexer": "ipython3",
      "version": "3.10.4"
    },
    "vscode": {
      "interpreter": {
        "hash": "d716433767831e8ee82b5de450bcf2d3a53628bd80e1225a1c6cd7992b494ee3"
      }
    }
  },
  "nbformat": 4,
  "nbformat_minor": 0
}
